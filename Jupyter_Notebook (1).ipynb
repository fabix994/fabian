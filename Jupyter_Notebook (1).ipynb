{
 "cells": [
  {
   "cell_type": "markdown",
   "metadata": {},
   "source": [
    "<center>\n",
    "    <img src=\"https://cf-courses-data.s3.us.cloud-object-storage.appdomain.cloud/IBMDeveloperSkillsNetwork-DS0105EN-SkillsNetwork/labs/Module2/images/SN_web_lightmode.png\" width=\"300\" alt=\"cognitiveclass.ai logo\">\n",
    "</center>\n"
   ]
  },
  {
   "cell_type": "markdown",
   "metadata": {},
   "source": [
    "#### Add your code below following the instructions given in the course\n"
   ]
  },
  {
   "cell_type": "markdown",
   "metadata": {},
   "source": [
    "# Proyecto Final: Introducción a la Ciencia de Datos\n"
   ]
  },
  {
   "cell_type": "markdown",
   "metadata": {
    "jp-MarkdownHeadingCollapsed": true
   },
   "source": [
    "## Introducción\n",
    "\n",
    "Este cuaderno contiene una introducción básica a los conceptos fundamentales de la Ciencia de Datos, incluyendo lenguajes, bibliotecas, herramientas, operaciones aritméticas y ejercicios prácticos simples en Python.\n"
   ]
  },
  {
   "cell_type": "markdown",
   "metadata": {},
   "source": [
    "## Lenguajes de la Ciencia de Datos\n",
    "Algunos de los lenguajes más utilizados en la Ciencia de Datos son:\n",
    "\n",
    "1. Python  \n",
    "2. R  \n",
    "3. SQL  \n",
    "4. Java  \n",
    "5. Scala  \n",
    "6. Julia  \n",
    "7. C++"
   ]
  },
  {
   "cell_type": "markdown",
   "metadata": {},
   "source": [
    "## Bibliotecas de Ciencia de Datos\n",
    "\n",
    "A continuación, se listan algunas bibliotecas populares en el campo de la Ciencia de Datos:\n",
    "\n",
    "- **Pandas**: Para manipulación y análisis de datos.  \n",
    "- **NumPy**: Para cálculos matemáticos y manejo de arrays.  \n",
    "- **Matplotlib**: Para visualización de datos.  \n",
    "- **Scikit-learn**: Para aprendizaje automático.  \n",
    "- **TensorFlow**: Para aprendizaje profundo.  \n",
    "- **Seaborn**: Para visualización estadística.\n"
   ]
  },
  {
   "cell_type": "markdown",
   "metadata": {},
   "source": [
    "## Bibliotecas de Ciencia de Datos\n",
    "\n",
    "A continuación, se listan algunas bibliotecas populares en el campo de la Ciencia de Datos:\n",
    "\n",
    "- **Pandas**: Para manipulación y análisis de datos.  \n",
    "- **NumPy**: Para cálculos matemáticos y manejo de arrays.  \n",
    "- **Matplotlib**: Para visualización de datos.  \n",
    "- **Scikit-learn**: Para aprendizaje automático.  \n",
    "- **TensorFlow**: Para aprendizaje profundo.  \n",
    "- **Seaborn**: Para visualización estadística.\n"
   ]
  },
  {
   "cell_type": "markdown",
   "metadata": {},
   "source": [
    "## Herramientas de Ciencia de Datos\n",
    "\n",
    "| Herramienta         | Categoría                 |\n",
    "|---------------------|---------------------------|\n",
    "| Jupyter Notebook    | Desarrollo / Presentación |\n",
    "| RStudio             | Desarrollo                 |\n",
    "| Apache Spark        | Procesamiento de datos     |\n",
    "| TensorFlow          | Aprendizaje profundo       |\n",
    "| Tableau             | Visualización de datos     |\n"
   ]
  },
  {
   "cell_type": "markdown",
   "metadata": {},
   "source": [
    "## Ejemplos de Expresiones Aritméticas\n",
    "\n",
    "Algunos ejemplos básicos de operaciones aritméticas en Python:\n",
    "\n",
    "- `3 + 5` (Suma)  \n",
    "- `10 - 4` (Resta)  \n",
    "- `6 * 7` (Multiplicación)  \n",
    "- `20 / 4` (División)\n"
   ]
  },
  {
   "cell_type": "code",
   "execution_count": 3,
   "metadata": {},
   "outputs": [
    {
     "name": "stdout",
     "output_type": "stream",
     "text": [
      "Resultado de la multiplicación: 12\n",
      "Resultado de la suma: 11\n"
     ]
    }
   ],
   "source": [
    "# Multiplicación y suma de números\n",
    "multiplicacion = 3 * 4\n",
    "suma = 5 + 6\n",
    "\n",
    "print(\"Resultado de la multiplicación:\", multiplicacion)\n",
    "print(\"Resultado de la suma:\", suma)\n"
   ]
  },
  {
   "cell_type": "code",
   "execution_count": 2,
   "metadata": {},
   "outputs": [
    {
     "name": "stdout",
     "output_type": "stream",
     "text": [
      "150 minutos equivalen a 2.5 horas\n"
     ]
    }
   ],
   "source": [
    "# Conversión de minutos a horas\n",
    "minutos = 150\n",
    "horas = minutos / 60\n",
    "\n",
    "print(\"150 minutos equivalen a\", horas, \"horas\")\n"
   ]
  },
  {
   "cell_type": "code",
   "execution_count": 1,
   "metadata": {},
   "outputs": [
    {
     "name": "stdout",
     "output_type": "stream",
     "text": [
      "- Aprender los fundamentos de Ciencia de Datos\n",
      "- Conocer herramientas populares\n",
      "- Practicar programación en Python\n",
      "- Realizar análisis y visualización de datos\n"
     ]
    }
   ],
   "source": [
    "# Lista de objetivos\n",
    "objetivos = [\n",
    "    \"Aprender los fundamentos de Ciencia de Datos\",\n",
    "    \"Conocer herramientas populares\",\n",
    "    \"Practicar programación en Python\",\n",
    "    \"Realizar análisis y visualización de datos\"\n",
    "]\n",
    "\n",
    "for objetivo in objetivos:\n",
    "    print(\"-\", objetivo)\n"
   ]
  },
  {
   "cell_type": "markdown",
   "metadata": {},
   "source": [
    "## Autor\n",
    "\n",
    "**Fabián Segura Severino**\n"
   ]
  }
 ],
 "metadata": {
  "kernelspec": {
   "display_name": "Python 3 (ipykernel)",
   "language": "python",
   "name": "python3"
  },
  "language_info": {
   "codemirror_mode": {
    "name": "ipython",
    "version": 3
   },
   "file_extension": ".py",
   "mimetype": "text/x-python",
   "name": "python",
   "nbconvert_exporter": "python",
   "pygments_lexer": "ipython3",
   "version": "3.12.8"
  }
 },
 "nbformat": 4,
 "nbformat_minor": 4
}
